{
 "cells": [
  {
   "cell_type": "code",
   "execution_count": null,
   "metadata": {},
   "outputs": [],
   "source": [
    "import numpy as np\n",
    "import pandas as pd\n",
    "import matplotlib.pyplot as plt"
   ]
  },
  {
   "cell_type": "code",
   "execution_count": null,
   "metadata": {},
   "outputs": [],
   "source": [
    "tss = []\n",
    "for ts in [1,2,3,4]: \n",
    "    wgs = []\n",
    "    for wg in [1,2]:\n",
    "        eps = [] \n",
    "        for ep in [2,3,4,5,6]:\n",
    "            eps.append(np.loadtxt('result/ral_multi_class_log_test_{ts}_episode_{ep}_weight_{wg}.csv'.format(ts=ts, ep=ep, wg=wg),\n",
    "                                  delimiter='\\n'))\n",
    "        wgs.append(np.mean(np.asarray(eps),axis=0))\n",
    "    tss.append(np.asarray(wgs))\n",
    "tss = np.asarray(tss)"
   ]
  },
  {
   "cell_type": "code",
   "execution_count": null,
   "metadata": {},
   "outputs": [],
   "source": [
    "for i in [0,1,2,3]:\n",
    "    plt.plot(tss[i][0])\n",
    "    plt.plot(tss[i][1])\n",
    "    plt.show()"
   ]
  },
  {
   "cell_type": "code",
   "execution_count": null,
   "metadata": {},
   "outputs": [],
   "source": []
  },
  {
   "cell_type": "code",
   "execution_count": null,
   "metadata": {},
   "outputs": [],
   "source": []
  }
 ],
 "metadata": {
  "kernelspec": {
   "display_name": "Python 3",
   "language": "python",
   "name": "python3"
  },
  "language_info": {
   "codemirror_mode": {
    "name": "ipython",
    "version": 3
   },
   "file_extension": ".py",
   "mimetype": "text/x-python",
   "name": "python",
   "nbconvert_exporter": "python",
   "pygments_lexer": "ipython3",
   "version": "3.5.2"
  }
 },
 "nbformat": 4,
 "nbformat_minor": 2
}